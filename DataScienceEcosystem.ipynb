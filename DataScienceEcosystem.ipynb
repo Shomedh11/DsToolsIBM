{
 "cells": [
  {
   "cell_type": "markdown",
   "id": "4655ce58-4281-4f34-a0c8-cf0494c23b70",
   "metadata": {},
   "source": [
    "# Data Science Tools and Ecosystem"
   ]
  },
  {
   "cell_type": "markdown",
   "id": "ce2ed33d-fe80-4599-8b6a-fcc3f3ac7ab2",
   "metadata": {},
   "source": [
    "In this notebook, Data Science Tools and Ecosystem are summarized."
   ]
  },
  {
   "cell_type": "markdown",
   "id": "1186ea1b-c98e-47f7-b248-6cd50ed0da68",
   "metadata": {},
   "source": [
    "**Objectives**:\n",
    "- to know popular libraries\n",
    "- understand basics of github\n",
    "- knowing the languages we will use\n",
    "- understand basics of jupyter notebook"
   ]
  },
  {
   "cell_type": "markdown",
   "id": "5cfb5e78-0298-43c8-9c5b-fe2379e9abe9",
   "metadata": {},
   "source": [
    "In this notebook , I will list some of the most well known Data Science languages like: \n",
    "1. _python_ \n",
    "2. _java_\n",
    "3. _R_"
   ]
  },
  {
   "cell_type": "markdown",
   "id": "2366a709-76b3-4a7f-afbe-1d5c3b490042",
   "metadata": {},
   "source": [
    "also some popular libraries: \n",
    "1. matplotlib\n",
    "2. numpy\n",
    "3. pandas"
   ]
  },
  {
   "cell_type": "markdown",
   "id": "60ccf3d0-dac4-4a32-8594-defdb2a18dcb",
   "metadata": {},
   "source": [
    "| Data Science Tools       |\n",
    "|--------------------------|\n",
    "| Jupyter Notebook         |\n",
    "| RStudio                  |\n",
    "| VS Code                  |\n"
   ]
  },
  {
   "cell_type": "markdown",
   "id": "62108b96-354e-40a8-85b5-48d9326be97c",
   "metadata": {},
   "source": [
    "### below we will execute an arthimetic expression"
   ]
  },
  {
   "cell_type": "code",
   "execution_count": 8,
   "id": "f4693f6c-5e13-4c21-90ca-af636726aa02",
   "metadata": {},
   "outputs": [
    {
     "data": {
      "text/plain": [
       "4"
      ]
     },
     "execution_count": 8,
     "metadata": {},
     "output_type": "execute_result"
    }
   ],
   "source": [
    "2+2"
   ]
  },
  {
   "cell_type": "code",
   "execution_count": 9,
   "id": "b1ffbcb3-1a3e-4802-8006-2682156e5ed5",
   "metadata": {},
   "outputs": [],
   "source": [
    "# this a a simple expression of multiplication then addition"
   ]
  },
  {
   "cell_type": "code",
   "execution_count": 10,
   "id": "c6086b0c-a08c-40b7-ad31-a1cb93db8279",
   "metadata": {},
   "outputs": [
    {
     "data": {
      "text/plain": [
       "17"
      ]
     },
     "execution_count": 10,
     "metadata": {},
     "output_type": "execute_result"
    }
   ],
   "source": [
    "(3*4)+5"
   ]
  },
  {
   "cell_type": "code",
   "execution_count": 11,
   "id": "2d851e7e-2da4-41b0-a40b-b3694b0d0bce",
   "metadata": {},
   "outputs": [],
   "source": [
    "# I will convert minutes to hours:"
   ]
  },
  {
   "cell_type": "code",
   "execution_count": 12,
   "id": "bffd26a7-a860-400c-aad4-32745d51c5df",
   "metadata": {},
   "outputs": [
    {
     "data": {
      "text/plain": [
       "3.3333333333333335"
      ]
     },
     "execution_count": 12,
     "metadata": {},
     "output_type": "execute_result"
    }
   ],
   "source": [
    "200/60"
   ]
  },
  {
   "cell_type": "markdown",
   "id": "297247d5-1a56-47cf-93bb-983d7745cffe",
   "metadata": {},
   "source": [
    "## Author\n",
    "Sultan tarik alhomedh"
   ]
  }
 ],
 "metadata": {
  "kernelspec": {
   "display_name": "Python 3 (ipykernel)",
   "language": "python",
   "name": "python3"
  },
  "language_info": {
   "codemirror_mode": {
    "name": "ipython",
    "version": 3
   },
   "file_extension": ".py",
   "mimetype": "text/x-python",
   "name": "python",
   "nbconvert_exporter": "python",
   "pygments_lexer": "ipython3",
   "version": "3.13.3"
  }
 },
 "nbformat": 4,
 "nbformat_minor": 5
}
